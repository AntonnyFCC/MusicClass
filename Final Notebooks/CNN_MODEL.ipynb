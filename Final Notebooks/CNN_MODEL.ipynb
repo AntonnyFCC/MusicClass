{
  "cells": [
    {
      "cell_type": "code",
      "execution_count": 1,
      "metadata": {
        "colab": {
          "base_uri": "https://localhost:8080/"
        },
        "id": "bLH6l6Ehcwh8",
        "outputId": "7607c2f6-1ffd-4292-f76e-248195e529dc"
      },
      "outputs": [
        {
          "name": "stdout",
          "output_type": "stream",
          "text": [
            "Collecting opendatasets\n",
            "  Downloading opendatasets-0.1.22-py3-none-any.whl (15 kB)\n",
            "Requirement already satisfied: tqdm in /usr/local/lib/python3.10/dist-packages (from opendatasets) (4.65.0)\n",
            "Requirement already satisfied: kaggle in /usr/local/lib/python3.10/dist-packages (from opendatasets) (1.5.13)\n",
            "Requirement already satisfied: click in /usr/local/lib/python3.10/dist-packages (from opendatasets) (8.1.3)\n",
            "Requirement already satisfied: six>=1.10 in /usr/local/lib/python3.10/dist-packages (from kaggle->opendatasets) (1.16.0)\n",
            "Requirement already satisfied: certifi in /usr/local/lib/python3.10/dist-packages (from kaggle->opendatasets) (2023.5.7)\n",
            "Requirement already satisfied: python-dateutil in /usr/local/lib/python3.10/dist-packages (from kaggle->opendatasets) (2.8.2)\n",
            "Requirement already satisfied: requests in /usr/local/lib/python3.10/dist-packages (from kaggle->opendatasets) (2.27.1)\n",
            "Requirement already satisfied: python-slugify in /usr/local/lib/python3.10/dist-packages (from kaggle->opendatasets) (8.0.1)\n",
            "Requirement already satisfied: urllib3 in /usr/local/lib/python3.10/dist-packages (from kaggle->opendatasets) (1.26.16)\n",
            "Requirement already satisfied: text-unidecode>=1.3 in /usr/local/lib/python3.10/dist-packages (from python-slugify->kaggle->opendatasets) (1.3)\n",
            "Requirement already satisfied: charset-normalizer~=2.0.0 in /usr/local/lib/python3.10/dist-packages (from requests->kaggle->opendatasets) (2.0.12)\n",
            "Requirement already satisfied: idna<4,>=2.5 in /usr/local/lib/python3.10/dist-packages (from requests->kaggle->opendatasets) (3.4)\n",
            "Installing collected packages: opendatasets\n",
            "Successfully installed opendatasets-0.1.22\n"
          ]
        }
      ],
      "source": [
        "!pip install opendatasets"
      ]
    },
    {
      "cell_type": "code",
      "execution_count": 2,
      "metadata": {
        "id": "bWK6Kj6xDg7E"
      },
      "outputs": [],
      "source": [
        "import opendatasets as od"
      ]
    },
    {
      "cell_type": "code",
      "execution_count": null,
      "metadata": {},
      "outputs": [],
      "source": [
        "# Descargando el dataset de Kaggle\n",
        "od.download('https://www.kaggle.com/datasets/andradaolteanu/gtzan-dataset-music-genre-classification?select=Data')"
      ]
    },
    {
      "cell_type": "code",
      "execution_count": 2,
      "metadata": {
        "id": "BzbymQ8tDN3S"
      },
      "outputs": [],
      "source": [
        "import os\n",
        "import numpy as np\n",
        "import pandas as pd\n",
        "import librosa\n",
        "from matplotlib import pyplot as plt\n",
        "import io\n",
        "import random\n",
        "\n",
        "import cv2 as cv\n",
        "\n",
        "from sklearn.neighbors import KNeighborsClassifier\n",
        "from sklearn.model_selection import train_test_split, GridSearchCV\n",
        "from sklearn.svm import SVC\n",
        "from sklearn.linear_model import LogisticRegression\n",
        "from sklearn.naive_bayes import  GaussianNB\n",
        "from sklearn.metrics import accuracy_score\n",
        "\n",
        "from sklearn.preprocessing import StandardScaler\n",
        "\n",
        "\n",
        "from sklearn.neural_network import MLPClassifier\n",
        "\n",
        "from warnings import filterwarnings\n",
        "filterwarnings('ignore')"
      ]
    },
    {
      "cell_type": "code",
      "execution_count": null,
      "metadata": {
        "id": "O2oRUdarmO30"
      },
      "outputs": [],
      "source": [
        "def wave_augmentation(audio, samp_r, tipo):\n",
        "  rango_tonos = [-2,2] # Rango para los cambios de tono\n",
        "  rango_velocidad = [0.4, 1.2] # Rango de cambios de velocidad\n",
        "  ruido = 0.1 # Variación de ruido\n",
        "\n",
        "  if tipo == 'tono':\n",
        "    # Selección aleatoria de cambio de tono\n",
        "    tono_selec = random.uniform(rango_tonos[0], rango_tonos[1])\n",
        "    # Aplicar cambio\n",
        "    newWave = librosa.effects.pitch_shift(y = audio, sr = samp_r, n_steps=tono_selec)\n",
        "  elif tipo == 'vel':\n",
        "    # Seleccion de vel\n",
        "    vel_selec = random.uniform(rango_velocidad[0], rango_velocidad[1])\n",
        "    # Aplicar\n",
        "    newWave = librosa.effects.time_stretch(y = audio, rate = vel_selec)\n",
        "  elif tipo == 'gauss':\n",
        "    # Ruido gauss\n",
        "    newWave = audio + np.random.normal(0, ruido, size=len(audio))\n",
        "\n",
        "  return newWave"
      ]
    },
    {
      "cell_type": "code",
      "execution_count": 5,
      "metadata": {
        "id": "NUIe8NnzFPi1"
      },
      "outputs": [],
      "source": [
        "clases = ['blues', 'classical', 'country', 'disco', 'hiphop', 'jazz', 'metal', 'pop', 'reggae', 'rock']"
      ]
    },
    {
      "cell_type": "code",
      "execution_count": 6,
      "metadata": {
        "colab": {
          "base_uri": "https://localhost:8080/"
        },
        "id": "0P7vE3YfFWm6",
        "outputId": "397a0a75-e3c4-46d4-d13a-50d918a8fe91"
      },
      "outputs": [
        {
          "name": "stdout",
          "output_type": "stream",
          "text": [
            "Error con archivo jazz.00054.wav Omitiéndolo...\n"
          ]
        }
      ],
      "source": [
        "D = {}\n",
        "for carpeta in os.listdir('gtzan-dataset-music-genre-classification/Data/genres_original/'):\n",
        "    if carpeta in clases:\n",
        "        D[carpeta] = []\n",
        "        for nombreM in os.listdir('gtzan-dataset-music-genre-classification/Data/genres_original/' + carpeta):\n",
        "          try:\n",
        "            wave, sam_r = librosa.load('gtzan-dataset-music-genre-classification/Data/genres_original/'+carpeta+'/'+nombreM,sr=22050)\n",
        "            D[carpeta].append(wave)\n",
        "            ## Se generarán los 3 tipos de augmentation para cada audio\n",
        "            #t = random.choice(['tono', 'vel', 'gauss'])\n",
        "            #generated = wave_augmentation(wave, sam_r, t)\n",
        "            #D[carpeta].append(generated)\n",
        "          except:\n",
        "            print('Error con archivo', nombreM, 'Omitiéndolo...')"
      ]
    },
    {
      "cell_type": "code",
      "execution_count": 7,
      "metadata": {
        "colab": {
          "base_uri": "https://localhost:8080/"
        },
        "id": "vIZu6UCj1rXv",
        "outputId": "4d3ccccd-9775-4776-bd06-8f05b5c94ec5"
      },
      "outputs": [
        {
          "name": "stdout",
          "output_type": "stream",
          "text": [
            "country 100\n",
            "classical 100\n",
            "blues 100\n",
            "rock 100\n",
            "metal 100\n",
            "disco 100\n",
            "pop 100\n",
            "reggae 100\n",
            "hiphop 100\n",
            "jazz 99\n"
          ]
        }
      ],
      "source": [
        "for k in D:\n",
        "  print(k, len(D[k]))"
      ]
    },
    {
      "cell_type": "code",
      "execution_count": 8,
      "metadata": {
        "id": "MsbuDC_nDanR"
      },
      "outputs": [],
      "source": [
        "def get_mel_spectogram2(onda):\n",
        "    mewSpectogram = librosa.feature.melspectrogram(y=onda, sr=sam_r , hop_length=512)\n",
        "    mel_spectrogram_log = librosa.power_to_db(mewSpectogram, ref=np.max)\n",
        "    mel_spectrogram_log = mel_spectrogram_log.astype(np.uint8)\n",
        "    spec_img = cv.applyColorMap(mel_spectrogram_log, cv.COLORMAP_JET)\n",
        "    spec_img = cv.cvtColor(spec_img, cv.COLOR_BGR2RGB)\n",
        "    return spec_img"
      ]
    },
    {
      "cell_type": "code",
      "execution_count": 9,
      "metadata": {
        "id": "j_633sveOdTc"
      },
      "outputs": [],
      "source": [
        "i1= get_mel_spectogram2(D['classical'][0])"
      ]
    },
    {
      "cell_type": "code",
      "execution_count": 10,
      "metadata": {
        "colab": {
          "base_uri": "https://localhost:8080/"
        },
        "id": "tE2yAGdfPzNC",
        "outputId": "12fb81bb-3a28-47eb-d6dd-38fb28048beb"
      },
      "outputs": [
        {
          "data": {
            "text/plain": [
              "(128, 1293, 3)"
            ]
          },
          "execution_count": 10,
          "metadata": {},
          "output_type": "execute_result"
        }
      ],
      "source": [
        "i1.shape"
      ]
    },
    {
      "cell_type": "code",
      "execution_count": 11,
      "metadata": {
        "colab": {
          "base_uri": "https://localhost:8080/",
          "height": 86
        },
        "id": "r5FG7VDqOnvi",
        "outputId": "1439536a-6cfe-4c92-90da-b7ea0fc4f699"
      },
      "outputs": [
        {
          "data": {
            "image/png": "[encoded data removed]",
            "text/plain": [
              "<Figure size 640x480 with 1 Axes>"
            ]
          },
          "metadata": {},
          "output_type": "display_data"
        }
      ],
      "source": [
        "plt.imshow(i1)\n",
        "plt.axis('off')\n",
        "plt.show()"
      ]
    },
    {
      "cell_type": "code",
      "execution_count": 12,
      "metadata": {
        "colab": {
          "base_uri": "https://localhost:8080/"
        },
        "id": "ciK-2U68DfAT",
        "outputId": "d6edb4e5-8386-4118-a33c-bc166d70dcb6"
      },
      "outputs": [
        {
          "name": "stdout",
          "output_type": "stream",
          "text": [
            "Extrayendo de blues....................................................................................................\n",
            "¡Finalizado!\n",
            "Extrayendo de classical..................x......x....................x.....................x..x.......x......x..........x..\n",
            "¡Finalizado!\n",
            "Extrayendo de country....................x..................x.........x......x....................x..x....x.........xx...\n",
            "¡Finalizado!\n",
            "Extrayendo de disco..x...................x.............x....x....x..............................xx........x............\n",
            "¡Finalizado!\n",
            "Extrayendo de hiphop....x.............x......x.............xx..x.....xx..x...x...x.x........x.....xxx........x.......x..\n",
            "¡Finalizado!\n",
            "Extrayendo de jazz.................x...................x..............x........x........x.............x...........x..\n",
            "¡Finalizado!\n",
            "Extrayendo de metal....................................................................................................\n",
            "¡Finalizado!\n",
            "Extrayendo de pop....................................................................................................\n",
            "¡Finalizado!\n",
            "Extrayendo de reggae....................................................................................................\n",
            "¡Finalizado!\n",
            "Extrayendo de rock...............x........x...x...................x............................x......................\n",
            "¡Finalizado!\n"
          ]
        }
      ],
      "source": [
        "D_imgs = {}\n",
        "for clase in clases:\n",
        "    D_imgs[clase] = []\n",
        "    print('Extrayendo de', clase ,end='')\n",
        "    for i in range(len(D[clase])):\n",
        "        audio = D[clase][i]\n",
        "        try:\n",
        "            img = get_mel_spectogram2(audio)\n",
        "            if img.shape != (128,1293,3):\n",
        "                img.reshape((128,1293,3))\n",
        "            D_imgs[clase].append(img)\n",
        "            print('.', end='')\n",
        "        except:\n",
        "            print('x', end='')\n",
        "    print('\\n¡Finalizado!')"
      ]
    },
    {
      "cell_type": "code",
      "execution_count": 13,
      "metadata": {
        "colab": {
          "base_uri": "https://localhost:8080/"
        },
        "id": "pmETvmIW2ENG",
        "outputId": "2c99d3e3-8087-4643-c83f-7126fdbbc4d8"
      },
      "outputs": [
        {
          "name": "stdout",
          "output_type": "stream",
          "text": [
            "blues 100\n",
            "classical 92\n",
            "country 91\n",
            "disco 92\n",
            "hiphop 82\n",
            "jazz 92\n",
            "metal 100\n",
            "pop 100\n",
            "reggae 100\n",
            "rock 95\n"
          ]
        }
      ],
      "source": [
        "for k in D_imgs:\n",
        "  print(k, len(D_imgs[k]))"
      ]
    },
    {
      "cell_type": "code",
      "execution_count": 14,
      "metadata": {
        "id": "LDIqFmB2D4MB"
      },
      "outputs": [],
      "source": [
        "ls_clase_imgs = np.concatenate([np.zeros(100), np.ones(92), np.full(91,2), np.full(92,3), np.full(82,4), np.full(92,5), np.full(100,6),np.full(100,7),np.full(100,8),np.full(95,9)], axis=0)\n",
        "ls_audio_imgs = np.concatenate([D_imgs['blues'], D_imgs['classical'], D_imgs['country'], D_imgs['disco'], D_imgs['hiphop'], D_imgs['jazz'],D_imgs['metal'], D_imgs['pop'],D_imgs['reggae'],D_imgs['rock']], axis=0 )"
      ]
    },
    {
      "cell_type": "code",
      "execution_count": 15,
      "metadata": {
        "id": "b15xdAwUEMLC"
      },
      "outputs": [],
      "source": [
        "X = ls_audio_imgs\n",
        "y = ls_clase_imgs"
      ]
    },
    {
      "cell_type": "code",
      "execution_count": 16,
      "metadata": {
        "id": "R0v6I63YEO3Z"
      },
      "outputs": [],
      "source": [
        "X_train, X_test, y_train, y_test = train_test_split(X, y, test_size=0.2, random_state=10)"
      ]
    },
    {
      "attachments": {},
      "cell_type": "markdown",
      "metadata": {
        "id": "YM-WAnIG3mOV"
      },
      "source": [
        "# Modelos CNN"
      ]
    },
    {
      "cell_type": "code",
      "execution_count": 17,
      "metadata": {
        "id": "hm7dyH6iER1x"
      },
      "outputs": [],
      "source": [
        "import tensorflow as tf\n",
        "from keras.layers import *\n",
        "from keras.models import Sequential"
      ]
    },
    {
      "cell_type": "code",
      "execution_count": 18,
      "metadata": {
        "id": "8UWBdQ23EVD6"
      },
      "outputs": [],
      "source": [
        "numero_class = 10"
      ]
    },
    {
      "cell_type": "code",
      "execution_count": 19,
      "metadata": {
        "colab": {
          "base_uri": "https://localhost:8080/"
        },
        "id": "0sMhz7XFEY7h",
        "outputId": "e5b1e669-04d8-42f8-c67e-d02c85ac09d7"
      },
      "outputs": [
        {
          "data": {
            "text/plain": [
              "(128, 1293)"
            ]
          },
          "execution_count": 19,
          "metadata": {},
          "output_type": "execute_result"
        }
      ],
      "source": [
        "ancho_img, alto_img, _ = get_mel_spectogram2(D['classical'][0]).shape\n",
        "ancho_img, alto_img"
      ]
    },
    {
      "attachments": {},
      "cell_type": "markdown",
      "metadata": {
        "id": "qvgi6uZJcxCZ"
      },
      "source": [
        "#### Transer learning con Inception"
      ]
    },
    {
      "cell_type": "code",
      "execution_count": null,
      "metadata": {
        "id": "hbyXPJg7IrIt"
      },
      "outputs": [],
      "source": [
        "from keras.applications import InceptionV3\n"
      ]
    },
    {
      "cell_type": "code",
      "execution_count": null,
      "metadata": {
        "id": "P_CgC48vIsSF"
      },
      "outputs": [],
      "source": [
        "base_model = InceptionV3(weights='imagenet', include_top=False, input_shape=(ancho_img, alto_img, 3))"
      ]
    },
    {
      "cell_type": "code",
      "execution_count": null,
      "metadata": {
        "id": "31G0xnuFI1SS"
      },
      "outputs": [],
      "source": [
        "for layer in base_model.layers:\n",
        "    layer.trainable = False     "
      ]
    },
    {
      "cell_type": "code",
      "execution_count": null,
      "metadata": {
        "id": "v7aEYaXUI-L6"
      },
      "outputs": [],
      "source": [
        "model = Sequential(name = 'InceptionCorcino')\n",
        "\n",
        "model.add(base_model)\n",
        "model.add(Flatten())\n",
        "model.add(Dense(256, activation='relu'))\n",
        "model.add(Dense(128, activation='relu'))\n",
        "model.add(Dense(128, activation='relu'))\n",
        "model.add(Dense(128, activation='relu'))\n",
        "model.add(Dense(10, activation='softmax'))"
      ]
    },
    {
      "cell_type": "code",
      "execution_count": null,
      "metadata": {
        "id": "B-ZwcEr0JkOU"
      },
      "outputs": [],
      "source": [
        "model.compile(optimizer='adam', loss=tf.keras.losses.sparse_categorical_crossentropy, metrics='accuracy')"
      ]
    },
    {
      "cell_type": "code",
      "execution_count": null,
      "metadata": {
        "colab": {
          "base_uri": "https://localhost:8080/"
        },
        "id": "HP_4DylOJnRE",
        "outputId": "17dad733-30b4-4c8d-a841-c564ac6a3536"
      },
      "outputs": [
        {
          "name": "stdout",
          "output_type": "stream",
          "text": [
            "Epoch 1/35\n",
            "24/24 [==============================] - 11s 184ms/step - loss: 419.5200 - accuracy: 0.1232\n",
            "Epoch 2/35\n",
            "24/24 [==============================] - 4s 187ms/step - loss: 82.7665 - accuracy: 0.2238\n",
            "Epoch 3/35\n",
            "24/24 [==============================] - 4s 187ms/step - loss: 45.9029 - accuracy: 0.2464\n",
            "Epoch 4/35\n",
            "24/24 [==============================] - 5s 189ms/step - loss: 20.7652 - accuracy: 0.3709\n",
            "Epoch 5/35\n",
            "24/24 [==============================] - 5s 191ms/step - loss: 10.6441 - accuracy: 0.4649\n",
            "Epoch 6/35\n",
            "24/24 [==============================] - 5s 191ms/step - loss: 7.2104 - accuracy: 0.5444\n",
            "Epoch 7/35\n",
            "24/24 [==============================] - 5s 192ms/step - loss: 7.1779 - accuracy: 0.5298\n",
            "Epoch 8/35\n",
            "24/24 [==============================] - 5s 190ms/step - loss: 4.8137 - accuracy: 0.5987\n",
            "Epoch 9/35\n",
            "24/24 [==============================] - 5s 189ms/step - loss: 3.0433 - accuracy: 0.6848\n",
            "Epoch 10/35\n",
            "24/24 [==============================] - 5s 191ms/step - loss: 2.6502 - accuracy: 0.7099\n",
            "Epoch 11/35\n",
            "24/24 [==============================] - 4s 187ms/step - loss: 3.2492 - accuracy: 0.6808\n",
            "Epoch 12/35\n",
            "24/24 [==============================] - 4s 187ms/step - loss: 2.1735 - accuracy: 0.7245\n",
            "Epoch 13/35\n",
            "24/24 [==============================] - 5s 188ms/step - loss: 3.9248 - accuracy: 0.6344\n",
            "Epoch 14/35\n",
            "24/24 [==============================] - 4s 186ms/step - loss: 3.5912 - accuracy: 0.7113\n",
            "Epoch 15/35\n",
            "24/24 [==============================] - 4s 186ms/step - loss: 2.1955 - accuracy: 0.7404\n",
            "Epoch 16/35\n",
            "24/24 [==============================] - 4s 186ms/step - loss: 2.0752 - accuracy: 0.7642\n",
            "Epoch 17/35\n",
            "24/24 [==============================] - 4s 185ms/step - loss: 2.1151 - accuracy: 0.7563\n",
            "Epoch 18/35\n",
            "24/24 [==============================] - 4s 188ms/step - loss: 1.0570 - accuracy: 0.8570\n",
            "Epoch 19/35\n",
            "24/24 [==============================] - 4s 186ms/step - loss: 1.1524 - accuracy: 0.8305\n",
            "Epoch 20/35\n",
            "24/24 [==============================] - 4s 186ms/step - loss: 0.7210 - accuracy: 0.8755\n",
            "Epoch 21/35\n",
            "24/24 [==============================] - 5s 188ms/step - loss: 1.1151 - accuracy: 0.8424\n",
            "Epoch 22/35\n",
            "24/24 [==============================] - 4s 186ms/step - loss: 1.4897 - accuracy: 0.8106\n",
            "Epoch 23/35\n",
            "24/24 [==============================] - 4s 187ms/step - loss: 0.7307 - accuracy: 0.8728\n",
            "Epoch 24/35\n",
            "24/24 [==============================] - 5s 188ms/step - loss: 0.7974 - accuracy: 0.8755\n",
            "Epoch 25/35\n",
            "24/24 [==============================] - 4s 187ms/step - loss: 2.0023 - accuracy: 0.7854\n",
            "Epoch 26/35\n",
            "24/24 [==============================] - 5s 188ms/step - loss: 1.8695 - accuracy: 0.7788\n",
            "Epoch 27/35\n",
            "24/24 [==============================] - 5s 189ms/step - loss: 2.4071 - accuracy: 0.7483\n",
            "Epoch 28/35\n",
            "24/24 [==============================] - 5s 188ms/step - loss: 1.3703 - accuracy: 0.8437\n",
            "Epoch 29/35\n",
            "24/24 [==============================] - 5s 190ms/step - loss: 1.9361 - accuracy: 0.7907\n",
            "Epoch 30/35\n",
            "24/24 [==============================] - 4s 188ms/step - loss: 0.6424 - accuracy: 0.8834\n",
            "Epoch 31/35\n",
            "24/24 [==============================] - 4s 187ms/step - loss: 0.1503 - accuracy: 0.9589\n",
            "Epoch 32/35\n",
            "24/24 [==============================] - 5s 189ms/step - loss: 0.0958 - accuracy: 0.9762\n",
            "Epoch 33/35\n",
            "24/24 [==============================] - 4s 187ms/step - loss: 0.0731 - accuracy: 0.9815\n",
            "Epoch 34/35\n",
            "24/24 [==============================] - 5s 188ms/step - loss: 0.1077 - accuracy: 0.9775\n",
            "Epoch 35/35\n",
            "24/24 [==============================] - 5s 188ms/step - loss: 0.2191 - accuracy: 0.9523\n"
          ]
        },
        {
          "data": {
            "text/plain": [
              "<keras.callbacks.History at 0x7f470db7ff10>"
            ]
          },
          "execution_count": 157,
          "metadata": {},
          "output_type": "execute_result"
        }
      ],
      "source": [
        "model.fit(X_train, y_train, epochs=35, batch_size=32)"
      ]
    },
    {
      "cell_type": "code",
      "execution_count": null,
      "metadata": {
        "colab": {
          "base_uri": "https://localhost:8080/"
        },
        "id": "UlwD6D7nmKHS",
        "outputId": "31b2f9fa-34c6-4606-bd5f-fe9910b923a4"
      },
      "outputs": [
        {
          "name": "stdout",
          "output_type": "stream",
          "text": [
            "6/6 [==============================] - 2s 179ms/step - loss: 5.9370 - accuracy: 0.6190\n"
          ]
        },
        {
          "data": {
            "text/plain": [
              "[5.937010288238525, 0.6190476417541504]"
            ]
          },
          "execution_count": 158,
          "metadata": {},
          "output_type": "execute_result"
        }
      ],
      "source": [
        "model.evaluate(X_test,y_test)"
      ]
    },
    {
      "cell_type": "code",
      "execution_count": null,
      "metadata": {
        "id": "JyqMmAdH-owx"
      },
      "outputs": [],
      "source": [
        "#LISTO"
      ]
    },
    {
      "attachments": {},
      "cell_type": "markdown",
      "metadata": {
        "id": "KQlJLcEDjs3v"
      },
      "source": [
        "# VGG19"
      ]
    },
    {
      "cell_type": "code",
      "execution_count": null,
      "metadata": {
        "id": "7QxsvVzrjr1r"
      },
      "outputs": [],
      "source": [
        "from keras.applications import VGG19"
      ]
    },
    {
      "cell_type": "code",
      "execution_count": null,
      "metadata": {
        "id": "sT4DhNJphckl"
      },
      "outputs": [],
      "source": [
        "base_model = VGG19(weights='imagenet', include_top=False, input_shape=(ancho_img, alto_img, 3))"
      ]
    },
    {
      "cell_type": "code",
      "execution_count": null,
      "metadata": {
        "id": "RIUeCvWajaJ4"
      },
      "outputs": [],
      "source": [
        "for layer in base_model.layers:\n",
        "    layer.trainable = False"
      ]
    },
    {
      "cell_type": "code",
      "execution_count": null,
      "metadata": {
        "id": "U1WnhutHjdpa"
      },
      "outputs": [],
      "source": [
        "model2 = Sequential(name = 'VGG19Corcino')\n",
        "\n",
        "model2.add(base_model)\n",
        "model2.add(Flatten())\n",
        "model2.add(Dense(256, activation='relu'))\n",
        "model2.add(Dense(128, activation='relu'))\n",
        "model2.add(Dense(128, activation='relu'))\n",
        "model2.add(Dense(128, activation='relu'))\n",
        "model2.add(Dense(10, activation='softmax'))"
      ]
    },
    {
      "cell_type": "code",
      "execution_count": null,
      "metadata": {
        "id": "DZrP_PC3jiaJ"
      },
      "outputs": [],
      "source": [
        "model2.compile(optimizer='adam', loss=tf.keras.losses.sparse_categorical_crossentropy, metrics='accuracy')"
      ]
    },
    {
      "cell_type": "code",
      "execution_count": null,
      "metadata": {
        "colab": {
          "base_uri": "https://localhost:8080/"
        },
        "id": "KDSBVnkUjmqz",
        "outputId": "796616ae-6c5e-4dcd-a57f-23cc18b81c8e"
      },
      "outputs": [
        {
          "name": "stdout",
          "output_type": "stream",
          "text": [
            "Epoch 1/10\n",
            "24/24 [==============================] - 15s 527ms/step - loss: 23.0911 - accuracy: 0.2384\n",
            "Epoch 2/10\n",
            "24/24 [==============================] - 13s 549ms/step - loss: 4.8385 - accuracy: 0.5603\n",
            "Epoch 3/10\n",
            "24/24 [==============================] - 13s 556ms/step - loss: 1.7987 - accuracy: 0.7523\n",
            "Epoch 4/10\n",
            "24/24 [==============================] - 13s 535ms/step - loss: 0.6207 - accuracy: 0.8808\n",
            "Epoch 5/10\n",
            "24/24 [==============================] - 13s 522ms/step - loss: 0.1373 - accuracy: 0.9669\n",
            "Epoch 6/10\n",
            "24/24 [==============================] - 12s 518ms/step - loss: 0.0761 - accuracy: 0.9788\n",
            "Epoch 7/10\n",
            "24/24 [==============================] - 13s 523ms/step - loss: 0.0600 - accuracy: 0.9868\n",
            "Epoch 8/10\n",
            "24/24 [==============================] - 13s 534ms/step - loss: 0.0272 - accuracy: 0.9894\n",
            "Epoch 9/10\n",
            "24/24 [==============================] - 13s 539ms/step - loss: 0.0227 - accuracy: 0.9947\n",
            "Epoch 10/10\n",
            "24/24 [==============================] - 13s 536ms/step - loss: 0.0079 - accuracy: 0.9987\n"
          ]
        },
        {
          "data": {
            "text/plain": [
              "<keras.callbacks.History at 0x7f1378ef2320>"
            ]
          },
          "execution_count": 80,
          "metadata": {},
          "output_type": "execute_result"
        }
      ],
      "source": [
        "model2.fit(X_train, y_train, epochs=10, batch_size=32)"
      ]
    },
    {
      "cell_type": "code",
      "execution_count": null,
      "metadata": {
        "colab": {
          "base_uri": "https://localhost:8080/"
        },
        "id": "ByqJ2rIa0n0u",
        "outputId": "b1681900-9336-48b0-8c4b-71d2c0a93a20"
      },
      "outputs": [
        {
          "name": "stdout",
          "output_type": "stream",
          "text": [
            "6/6 [==============================] - 3s 502ms/step - loss: 2.0094 - accuracy: 0.7407\n"
          ]
        },
        {
          "data": {
            "text/plain": [
              "[2.009434700012207, 0.7407407164573669]"
            ]
          },
          "execution_count": 81,
          "metadata": {},
          "output_type": "execute_result"
        }
      ],
      "source": [
        "model2.evaluate(X_test,y_test)"
      ]
    },
    {
      "cell_type": "code",
      "execution_count": null,
      "metadata": {
        "id": "9l8CGKJzn2Md"
      },
      "outputs": [],
      "source": [
        "# LISTO"
      ]
    },
    {
      "attachments": {},
      "cell_type": "markdown",
      "metadata": {
        "id": "qFUbhsDX3fYj"
      },
      "source": [
        "# VGG16"
      ]
    },
    {
      "cell_type": "code",
      "execution_count": null,
      "metadata": {
        "id": "NDbbifIV33dh"
      },
      "outputs": [],
      "source": [
        "from keras.applications import VGG16"
      ]
    },
    {
      "cell_type": "code",
      "execution_count": null,
      "metadata": {
        "id": "E9LFG0Xe4Guv"
      },
      "outputs": [],
      "source": [
        "base_model = VGG16(weights='imagenet', include_top=False, input_shape=(ancho_img, alto_img, 3))"
      ]
    },
    {
      "cell_type": "code",
      "execution_count": null,
      "metadata": {
        "id": "vE4CM6ke4KPX"
      },
      "outputs": [],
      "source": [
        "for layer in base_model.layers:\n",
        "    layer.trainable = False"
      ]
    },
    {
      "cell_type": "code",
      "execution_count": null,
      "metadata": {
        "id": "ay4ekpLz4Nkn"
      },
      "outputs": [],
      "source": [
        "model3 = Sequential(name = 'VGG16Corcino')\n",
        "\n",
        "model3.add(base_model)\n",
        "model3.add(Flatten())\n",
        "model3.add(Dense(256, activation='relu'))\n",
        "model3.add(Dense(128, activation='relu'))\n",
        "model3.add(Dense(128, activation='relu'))\n",
        "model3.add(Dense(128, activation='relu'))\n",
        "model3.add(Dense(10, activation='softmax'))"
      ]
    },
    {
      "cell_type": "code",
      "execution_count": null,
      "metadata": {
        "id": "SE_DZlvT4WRX"
      },
      "outputs": [],
      "source": [
        "model3.compile(optimizer='adam', loss=tf.keras.losses.sparse_categorical_crossentropy, metrics='accuracy')"
      ]
    },
    {
      "cell_type": "code",
      "execution_count": null,
      "metadata": {
        "colab": {
          "base_uri": "https://localhost:8080/"
        },
        "id": "WHU8R-hv4Z7_",
        "outputId": "32527426-9612-423c-aeb4-49f1c9ada868"
      },
      "outputs": [
        {
          "name": "stdout",
          "output_type": "stream",
          "text": [
            "Epoch 1/15\n",
            "24/24 [==============================] - 14s 423ms/step - loss: 32.1577 - accuracy: 0.2000\n",
            "Epoch 2/15\n",
            "24/24 [==============================] - 10s 418ms/step - loss: 4.6036 - accuracy: 0.5483\n",
            "Epoch 3/15\n",
            "24/24 [==============================] - 10s 416ms/step - loss: 1.2986 - accuracy: 0.7854\n",
            "Epoch 4/15\n",
            "24/24 [==============================] - 10s 418ms/step - loss: 0.2885 - accuracy: 0.9139\n",
            "Epoch 5/15\n",
            "24/24 [==============================] - 10s 421ms/step - loss: 0.1927 - accuracy: 0.9523\n",
            "Epoch 6/15\n",
            "24/24 [==============================] - 10s 425ms/step - loss: 0.0778 - accuracy: 0.9722\n",
            "Epoch 7/15\n",
            "24/24 [==============================] - 10s 428ms/step - loss: 0.0671 - accuracy: 0.9815\n",
            "Epoch 8/15\n",
            "24/24 [==============================] - 10s 429ms/step - loss: 0.0298 - accuracy: 0.9921\n",
            "Epoch 9/15\n",
            "24/24 [==============================] - 10s 428ms/step - loss: 0.0162 - accuracy: 0.9974\n",
            "Epoch 10/15\n",
            "24/24 [==============================] - 10s 427ms/step - loss: 0.0143 - accuracy: 0.9960\n",
            "Epoch 11/15\n",
            "24/24 [==============================] - 10s 424ms/step - loss: 0.0161 - accuracy: 0.9974\n",
            "Epoch 12/15\n",
            "24/24 [==============================] - 10s 423ms/step - loss: 0.0112 - accuracy: 0.9987\n",
            "Epoch 13/15\n",
            "24/24 [==============================] - 10s 425ms/step - loss: 0.0075 - accuracy: 0.9987\n",
            "Epoch 14/15\n",
            "24/24 [==============================] - 10s 424ms/step - loss: 0.0177 - accuracy: 0.9987\n",
            "Epoch 15/15\n",
            "24/24 [==============================] - 10s 424ms/step - loss: 0.0118 - accuracy: 0.9987\n"
          ]
        },
        {
          "data": {
            "text/plain": [
              "<keras.callbacks.History at 0x7f136cda6380>"
            ]
          },
          "execution_count": 108,
          "metadata": {},
          "output_type": "execute_result"
        }
      ],
      "source": [
        "model3.fit(X_train, y_train, epochs=15, batch_size=32)"
      ]
    },
    {
      "cell_type": "code",
      "execution_count": null,
      "metadata": {
        "colab": {
          "base_uri": "https://localhost:8080/"
        },
        "id": "PGdb7-hv4ckY",
        "outputId": "c283e13e-a551-4767-f2e7-58aed0db24a9"
      },
      "outputs": [
        {
          "name": "stdout",
          "output_type": "stream",
          "text": [
            "6/6 [==============================] - 3s 396ms/step - loss: 1.5503 - accuracy: 0.7884\n"
          ]
        },
        {
          "data": {
            "text/plain": [
              "[1.5503407716751099, 0.7883597612380981]"
            ]
          },
          "execution_count": 109,
          "metadata": {},
          "output_type": "execute_result"
        }
      ],
      "source": [
        "model3.evaluate(X_test,y_test)"
      ]
    },
    {
      "cell_type": "code",
      "execution_count": null,
      "metadata": {
        "id": "VUPbiyHFZvme"
      },
      "outputs": [],
      "source": [
        "# LISTO"
      ]
    },
    {
      "attachments": {},
      "cell_type": "markdown",
      "metadata": {
        "id": "eQQ3BrpkokpJ"
      },
      "source": [
        "# RESNET50"
      ]
    },
    {
      "cell_type": "code",
      "execution_count": null,
      "metadata": {
        "id": "A4QWV3S7n6Si"
      },
      "outputs": [],
      "source": [
        "from keras.applications import ResNet50"
      ]
    },
    {
      "cell_type": "code",
      "execution_count": null,
      "metadata": {
        "id": "Y6vIjXzJn6Sj"
      },
      "outputs": [],
      "source": [
        "base_model = ResNet50(weights='imagenet', include_top=False, input_shape=(ancho_img, alto_img, 3))"
      ]
    },
    {
      "cell_type": "code",
      "execution_count": null,
      "metadata": {
        "id": "-Lfe_vqbn6Sk"
      },
      "outputs": [],
      "source": [
        "for layer in base_model.layers:\n",
        "    layer.trainable = False"
      ]
    },
    {
      "cell_type": "code",
      "execution_count": null,
      "metadata": {
        "id": "vpQYgQVmn6Sl"
      },
      "outputs": [],
      "source": [
        "model4 = Sequential(name = 'Resnet50Corcino')\n",
        "\n",
        "model4.add(base_model)\n",
        "model4.add(Flatten())\n",
        "model4.add(Dense(256, activation='relu'))\n",
        "model4.add(Dense(128, activation='relu'))\n",
        "model4.add(Dense(128, activation='relu'))\n",
        "model4.add(Dense(128, activation='relu'))\n",
        "model4.add(Dense(10, activation='softmax'))"
      ]
    },
    {
      "cell_type": "code",
      "execution_count": null,
      "metadata": {
        "id": "6OUyS9WEn6Sm"
      },
      "outputs": [],
      "source": [
        "model4.compile(optimizer='adam', loss=tf.keras.losses.sparse_categorical_crossentropy, metrics='accuracy')"
      ]
    },
    {
      "cell_type": "code",
      "execution_count": null,
      "metadata": {
        "colab": {
          "base_uri": "https://localhost:8080/"
        },
        "id": "EZp4-zRTn6Sn",
        "outputId": "0834bcb5-d5c1-4f8e-e6ff-b2c336f7b82e"
      },
      "outputs": [
        {
          "name": "stdout",
          "output_type": "stream",
          "text": [
            "Epoch 1/15\n",
            "24/24 [==============================] - 11s 281ms/step - loss: 31.2091 - accuracy: 0.1695\n",
            "Epoch 2/15\n",
            "24/24 [==============================] - 7s 280ms/step - loss: 4.1562 - accuracy: 0.4795\n",
            "Epoch 3/15\n",
            "24/24 [==============================] - 7s 282ms/step - loss: 1.0880 - accuracy: 0.7417\n",
            "Epoch 4/15\n",
            "24/24 [==============================] - 7s 283ms/step - loss: 0.4634 - accuracy: 0.8623\n",
            "Epoch 5/15\n",
            "24/24 [==============================] - 7s 284ms/step - loss: 0.3189 - accuracy: 0.9126\n",
            "Epoch 6/15\n",
            "24/24 [==============================] - 7s 285ms/step - loss: 0.1447 - accuracy: 0.9483\n",
            "Epoch 7/15\n",
            "24/24 [==============================] - 7s 285ms/step - loss: 0.0422 - accuracy: 0.9841\n",
            "Epoch 8/15\n",
            "24/24 [==============================] - 7s 288ms/step - loss: 0.0233 - accuracy: 0.9947\n",
            "Epoch 9/15\n",
            "24/24 [==============================] - 7s 289ms/step - loss: 0.0133 - accuracy: 0.9987\n",
            "Epoch 10/15\n",
            "24/24 [==============================] - 7s 288ms/step - loss: 0.0157 - accuracy: 0.9960\n",
            "Epoch 11/15\n",
            "24/24 [==============================] - 7s 289ms/step - loss: 0.0116 - accuracy: 0.9960\n",
            "Epoch 12/15\n",
            "24/24 [==============================] - 7s 289ms/step - loss: 0.0277 - accuracy: 0.9868\n",
            "Epoch 13/15\n",
            "24/24 [==============================] - 7s 290ms/step - loss: 0.0336 - accuracy: 0.9868\n",
            "Epoch 14/15\n",
            "24/24 [==============================] - 7s 290ms/step - loss: 0.0124 - accuracy: 0.9974\n",
            "Epoch 15/15\n",
            "24/24 [==============================] - 7s 288ms/step - loss: 0.0073 - accuracy: 0.9974\n"
          ]
        },
        {
          "data": {
            "text/plain": [
              "<keras.callbacks.History at 0x7f132e070b50>"
            ]
          },
          "execution_count": 146,
          "metadata": {},
          "output_type": "execute_result"
        }
      ],
      "source": [
        "model4.fit(X_train, y_train, epochs=15, batch_size=32)"
      ]
    },
    {
      "cell_type": "code",
      "execution_count": null,
      "metadata": {
        "colab": {
          "base_uri": "https://localhost:8080/"
        },
        "id": "1EHly_fap3ic",
        "outputId": "bb828d52-e968-431a-cab1-c75def4fda8f"
      },
      "outputs": [
        {
          "name": "stdout",
          "output_type": "stream",
          "text": [
            "6/6 [==============================] - 3s 278ms/step - loss: 0.9243 - accuracy: 0.8042\n"
          ]
        },
        {
          "data": {
            "text/plain": [
              "[0.9243288636207581, 0.8042327761650085]"
            ]
          },
          "execution_count": 147,
          "metadata": {},
          "output_type": "execute_result"
        }
      ],
      "source": [
        "model4.evaluate(X_test,y_test)"
      ]
    },
    {
      "cell_type": "code",
      "execution_count": null,
      "metadata": {
        "id": "WJaJPp-qeJPp"
      },
      "outputs": [],
      "source": [
        "# LISTO"
      ]
    },
    {
      "cell_type": "code",
      "execution_count": null,
      "metadata": {
        "id": "9o96HERxhKCg"
      },
      "outputs": [],
      "source": [
        "model4.save('ResCorcinoNetV100.h5')"
      ]
    },
    {
      "attachments": {},
      "cell_type": "markdown",
      "metadata": {
        "id": "5RWiOjkEp-U5"
      },
      "source": [
        "# Resnet 101\n",
        "\n"
      ]
    },
    {
      "cell_type": "code",
      "execution_count": null,
      "metadata": {
        "id": "XVfy3jPhp8da"
      },
      "outputs": [],
      "source": [
        "from keras.applications import ResNet101"
      ]
    },
    {
      "cell_type": "code",
      "execution_count": null,
      "metadata": {
        "id": "4HWyspjJp8d0"
      },
      "outputs": [],
      "source": [
        "base_model = ResNet101(weights='imagenet', include_top=False, input_shape=(ancho_img, alto_img, 3))"
      ]
    },
    {
      "cell_type": "code",
      "execution_count": null,
      "metadata": {
        "id": "81erFUQ-p8d2"
      },
      "outputs": [],
      "source": [
        "for layer in base_model.layers:\n",
        "    layer.trainable = False"
      ]
    },
    {
      "cell_type": "code",
      "execution_count": null,
      "metadata": {
        "id": "Y1IIXQ9qp8d3"
      },
      "outputs": [],
      "source": [
        "model5 = Sequential(name = 'Resnet101Corcino')\n",
        "\n",
        "model5.add(base_model)\n",
        "model5.add(Flatten())\n",
        "model5.add(Dense(256, activation='relu'))\n",
        "model5.add(Dense(128, activation='relu'))\n",
        "model5.add(Dense(128, activation='relu'))\n",
        "model5.add(Dense(128, activation='relu'))\n",
        "model5.add(Dense(10, activation='softmax'))"
      ]
    },
    {
      "cell_type": "code",
      "execution_count": null,
      "metadata": {
        "id": "lxqVhRNEp8d4"
      },
      "outputs": [],
      "source": [
        "model5.compile(optimizer='adam', loss=tf.keras.losses.sparse_categorical_crossentropy, metrics='accuracy')"
      ]
    },
    {
      "cell_type": "code",
      "execution_count": null,
      "metadata": {
        "colab": {
          "base_uri": "https://localhost:8080/"
        },
        "id": "pwIpeKsPp8d5",
        "outputId": "ae120378-f02e-450f-c36e-68731f696355"
      },
      "outputs": [
        {
          "name": "stdout",
          "output_type": "stream",
          "text": [
            "Epoch 1/20\n",
            "24/24 [==============================] - 20s 475ms/step - loss: 28.9318 - accuracy: 0.2053\n",
            "Epoch 2/20\n",
            "24/24 [==============================] - 12s 485ms/step - loss: 5.0071 - accuracy: 0.5338\n",
            "Epoch 3/20\n",
            "24/24 [==============================] - 12s 495ms/step - loss: 2.0116 - accuracy: 0.6728\n",
            "Epoch 4/20\n",
            "24/24 [==============================] - 12s 491ms/step - loss: 1.2667 - accuracy: 0.7762\n",
            "Epoch 5/20\n",
            "24/24 [==============================] - 12s 486ms/step - loss: 0.4650 - accuracy: 0.8901\n",
            "Epoch 6/20\n",
            "24/24 [==============================] - 11s 479ms/step - loss: 0.2318 - accuracy: 0.9311\n",
            "Epoch 7/20\n",
            "24/24 [==============================] - 11s 478ms/step - loss: 0.0744 - accuracy: 0.9762\n",
            "Epoch 8/20\n",
            "24/24 [==============================] - 12s 479ms/step - loss: 0.0372 - accuracy: 0.9841\n",
            "Epoch 9/20\n",
            "24/24 [==============================] - 11s 478ms/step - loss: 0.0792 - accuracy: 0.9828\n",
            "Epoch 10/20\n",
            "24/24 [==============================] - 12s 485ms/step - loss: 0.0470 - accuracy: 0.9894\n",
            "Epoch 11/20\n",
            "24/24 [==============================] - 12s 485ms/step - loss: 0.0239 - accuracy: 0.9960\n",
            "Epoch 12/20\n",
            "24/24 [==============================] - 12s 483ms/step - loss: 0.0160 - accuracy: 0.9974\n",
            "Epoch 13/20\n",
            "24/24 [==============================] - 12s 482ms/step - loss: 0.0304 - accuracy: 0.9974\n",
            "Epoch 14/20\n",
            "24/24 [==============================] - 12s 480ms/step - loss: 0.0161 - accuracy: 0.9974\n",
            "Epoch 15/20\n",
            "24/24 [==============================] - 11s 479ms/step - loss: 0.0274 - accuracy: 0.9987\n",
            "Epoch 16/20\n",
            "24/24 [==============================] - 12s 481ms/step - loss: 0.0235 - accuracy: 0.9974\n",
            "Epoch 17/20\n",
            "24/24 [==============================] - 12s 480ms/step - loss: 0.0280 - accuracy: 0.9974\n",
            "Epoch 18/20\n",
            "24/24 [==============================] - 12s 481ms/step - loss: 0.0206 - accuracy: 0.9987\n",
            "Epoch 19/20\n",
            "24/24 [==============================] - 12s 483ms/step - loss: 0.0060 - accuracy: 0.9987\n",
            "Epoch 20/20\n",
            "24/24 [==============================] - 12s 482ms/step - loss: 0.0232 - accuracy: 0.9987\n"
          ]
        },
        {
          "data": {
            "text/plain": [
              "<keras.callbacks.History at 0x7f41711e76a0>"
            ]
          },
          "execution_count": 46,
          "metadata": {},
          "output_type": "execute_result"
        }
      ],
      "source": [
        "model5.fit(X_train, y_train, epochs=20, batch_size=32)"
      ]
    },
    {
      "cell_type": "code",
      "execution_count": null,
      "metadata": {
        "colab": {
          "base_uri": "https://localhost:8080/"
        },
        "id": "j5lAOXwF1XPC",
        "outputId": "630faa66-1103-485c-931d-aece5be79be5"
      },
      "outputs": [
        {
          "name": "stdout",
          "output_type": "stream",
          "text": [
            "6/6 [==============================] - 5s 467ms/step - loss: 1.3463 - accuracy: 0.7725\n"
          ]
        },
        {
          "data": {
            "text/plain": [
              "[1.3462845087051392, 0.7724867463111877]"
            ]
          },
          "execution_count": 47,
          "metadata": {},
          "output_type": "execute_result"
        }
      ],
      "source": [
        "model5.evaluate(X_test,y_test)"
      ]
    },
    {
      "cell_type": "code",
      "execution_count": null,
      "metadata": {
        "id": "j33KCc9uqXhn"
      },
      "outputs": [],
      "source": [
        "# LISTO"
      ]
    },
    {
      "attachments": {},
      "cell_type": "markdown",
      "metadata": {
        "id": "seZBcNSa1rmx"
      },
      "source": [
        "# ResNet152"
      ]
    },
    {
      "cell_type": "code",
      "execution_count": null,
      "metadata": {
        "id": "-U8Snn5z1w4M"
      },
      "outputs": [],
      "source": [
        "from keras.applications import ResNet152"
      ]
    },
    {
      "cell_type": "code",
      "execution_count": null,
      "metadata": {
        "id": "J0DQCkVZ13oQ"
      },
      "outputs": [],
      "source": [
        "base_model = ResNet152(weights='imagenet', include_top=False, input_shape=(ancho_img, alto_img, 3))"
      ]
    },
    {
      "cell_type": "code",
      "execution_count": null,
      "metadata": {
        "id": "V3ZwkbmQ146g"
      },
      "outputs": [],
      "source": [
        "for layer in base_model.layers:\n",
        "    layer.trainable = False"
      ]
    },
    {
      "cell_type": "code",
      "execution_count": null,
      "metadata": {
        "id": "LZgG15O016ko"
      },
      "outputs": [],
      "source": [
        "model6 = Sequential(name = 'Resnet152Corcino')\n",
        "\n",
        "model6.add(base_model)\n",
        "model6.add(Flatten())\n",
        "model6.add(Dense(256, activation='relu'))\n",
        "model6.add(Dense(128, activation='relu'))\n",
        "model6.add(Dense(128, activation='relu'))\n",
        "model6.add(Dense(128, activation='relu'))\n",
        "model6.add(Dense(10, activation='softmax'))"
      ]
    },
    {
      "cell_type": "code",
      "execution_count": null,
      "metadata": {
        "id": "uphusLl02HK4"
      },
      "outputs": [],
      "source": [
        "model6.compile(optimizer='adam', loss=tf.keras.losses.sparse_categorical_crossentropy, metrics='accuracy')"
      ]
    },
    {
      "cell_type": "code",
      "execution_count": null,
      "metadata": {
        "colab": {
          "base_uri": "https://localhost:8080/"
        },
        "id": "N2pfbBpI2NkY",
        "outputId": "2f3594ee-c244-4408-d3cd-90593f127d70"
      },
      "outputs": [
        {
          "name": "stdout",
          "output_type": "stream",
          "text": [
            "Epoch 1/10\n",
            "24/24 [==============================] - 27s 682ms/step - loss: 15.0948 - accuracy: 0.2212\n",
            "Epoch 2/10\n",
            "24/24 [==============================] - 17s 703ms/step - loss: 2.2570 - accuracy: 0.6252\n",
            "Epoch 3/10\n",
            "24/24 [==============================] - 17s 692ms/step - loss: 1.0834 - accuracy: 0.7695\n",
            "Epoch 4/10\n",
            "24/24 [==============================] - 16s 682ms/step - loss: 0.3723 - accuracy: 0.9033\n",
            "Epoch 5/10\n",
            "24/24 [==============================] - 16s 678ms/step - loss: 0.0741 - accuracy: 0.9775\n",
            "Epoch 6/10\n",
            "24/24 [==============================] - 16s 679ms/step - loss: 0.0711 - accuracy: 0.9788\n",
            "Epoch 7/10\n",
            "24/24 [==============================] - 16s 686ms/step - loss: 0.0224 - accuracy: 0.9894\n",
            "Epoch 8/10\n",
            "24/24 [==============================] - 16s 686ms/step - loss: 0.0154 - accuracy: 0.9974\n",
            "Epoch 9/10\n",
            "24/24 [==============================] - 16s 684ms/step - loss: 0.0208 - accuracy: 0.9987\n",
            "Epoch 10/10\n",
            "24/24 [==============================] - 16s 684ms/step - loss: 0.0334 - accuracy: 0.9907\n"
          ]
        },
        {
          "data": {
            "text/plain": [
              "<keras.callbacks.History at 0x7f41619ce2f0>"
            ]
          },
          "execution_count": 81,
          "metadata": {},
          "output_type": "execute_result"
        }
      ],
      "source": [
        "model6.fit(X_train, y_train, epochs=10, batch_size=32)"
      ]
    },
    {
      "cell_type": "code",
      "execution_count": null,
      "metadata": {
        "colab": {
          "base_uri": "https://localhost:8080/"
        },
        "id": "Y1Ydp5b52PsY",
        "outputId": "452d057b-9276-49df-db07-3dfd1ac885a8"
      },
      "outputs": [
        {
          "name": "stdout",
          "output_type": "stream",
          "text": [
            "6/6 [==============================] - 7s 659ms/step - loss: 1.3280 - accuracy: 0.7619\n"
          ]
        },
        {
          "data": {
            "text/plain": [
              "[1.3280367851257324, 0.761904776096344]"
            ]
          },
          "execution_count": 82,
          "metadata": {},
          "output_type": "execute_result"
        }
      ],
      "source": [
        "model6.evaluate(X_test,y_test)"
      ]
    },
    {
      "cell_type": "code",
      "execution_count": null,
      "metadata": {
        "id": "81pQpnTEvyIp"
      },
      "outputs": [],
      "source": [
        "# LISTO"
      ]
    },
    {
      "attachments": {},
      "cell_type": "markdown",
      "metadata": {
        "id": "hxZLuLrn7PHU"
      },
      "source": [
        "# Modelo propio desde cero"
      ]
    },
    {
      "cell_type": "code",
      "execution_count": 54,
      "metadata": {
        "id": "d5kDrq5LxfjX"
      },
      "outputs": [],
      "source": [
        "from keras.models import Sequential"
      ]
    },
    {
      "cell_type": "code",
      "execution_count": 55,
      "metadata": {
        "id": "MYfhFtAt7Tc_"
      },
      "outputs": [],
      "source": [
        "model7 = Sequential(name = 'CorcinoBasicNet')\n",
        "\n",
        "model7.add(Conv2D(20, kernel_size=(3,3), strides=(1,1), activation='relu', input_shape=(ancho_img, alto_img, 3)))\n",
        "\n",
        "model7.add(Conv2D(20, kernel_size=(3,3), strides=(1,1), activation='relu'))\n",
        "model7.add(MaxPooling2D(pool_size=(2,2), strides=(2,2)))\n",
        "model7.add(Conv2D(20, kernel_size=(3,3), strides=(1,1), activation='relu'))\n",
        "model7.add(Conv2D(20, kernel_size=(3,3), strides=(1,1), activation='relu'))\n",
        "model7.add(MaxPooling2D(pool_size=(2,2),strides=(2,2)))\n",
        "\n",
        "model7.add(Flatten())\n",
        "\n",
        "model7.add(Dense(256, activation='relu'))\n",
        "model7.add(Dense(128, activation='relu'))\n",
        "model7.add(Dense(128, activation='relu'))\n",
        "model7.add(Dense(128, activation='relu'))\n",
        "model7.add(Dense(10, activation='softmax'))"
      ]
    },
    {
      "cell_type": "code",
      "execution_count": 56,
      "metadata": {
        "id": "xTnaVx5fwyep"
      },
      "outputs": [],
      "source": [
        "model7.compile(optimizer='adam', loss=tf.keras.losses.sparse_categorical_crossentropy, metrics='accuracy')"
      ]
    },
    {
      "cell_type": "code",
      "execution_count": 57,
      "metadata": {
        "colab": {
          "base_uri": "https://localhost:8080/"
        },
        "id": "omaZeZ_Twzq8",
        "outputId": "d268d0e0-8364-459f-cf64-b164d5543f12"
      },
      "outputs": [
        {
          "name": "stdout",
          "output_type": "stream",
          "text": [
            "Epoch 1/15\n",
            "24/24 [==============================] - 8s 156ms/step - loss: 103.7645 - accuracy: 0.1139\n",
            "Epoch 2/15\n",
            "24/24 [==============================] - 4s 152ms/step - loss: 2.1860 - accuracy: 0.2238\n",
            "Epoch 3/15\n",
            "24/24 [==============================] - 4s 155ms/step - loss: 1.6699 - accuracy: 0.4609\n",
            "Epoch 4/15\n",
            "24/24 [==============================] - 4s 155ms/step - loss: 1.1574 - accuracy: 0.6238\n",
            "Epoch 5/15\n",
            "24/24 [==============================] - 4s 155ms/step - loss: 0.7656 - accuracy: 0.7788\n",
            "Epoch 6/15\n",
            "24/24 [==============================] - 4s 155ms/step - loss: 0.3175 - accuracy: 0.9285\n",
            "Epoch 7/15\n",
            "24/24 [==============================] - 4s 157ms/step - loss: 0.1310 - accuracy: 0.9748\n",
            "Epoch 8/15\n",
            "24/24 [==============================] - 4s 155ms/step - loss: 0.0384 - accuracy: 0.9934\n",
            "Epoch 9/15\n",
            "24/24 [==============================] - 4s 155ms/step - loss: 0.0278 - accuracy: 0.9947\n",
            "Epoch 10/15\n",
            "24/24 [==============================] - 4s 159ms/step - loss: 0.0304 - accuracy: 0.9934\n",
            "Epoch 11/15\n",
            "24/24 [==============================] - 4s 156ms/step - loss: 0.0286 - accuracy: 0.9960\n",
            "Epoch 12/15\n",
            "24/24 [==============================] - 4s 156ms/step - loss: 0.0106 - accuracy: 0.9987\n",
            "Epoch 13/15\n",
            "24/24 [==============================] - 4s 158ms/step - loss: 0.0105 - accuracy: 0.9974\n",
            "Epoch 14/15\n",
            "24/24 [==============================] - 4s 156ms/step - loss: 0.0062 - accuracy: 0.9987\n",
            "Epoch 15/15\n",
            "24/24 [==============================] - 4s 156ms/step - loss: 0.0067 - accuracy: 0.9974\n"
          ]
        },
        {
          "data": {
            "text/plain": [
              "<keras.callbacks.History at 0x7f6ad2153640>"
            ]
          },
          "execution_count": 57,
          "metadata": {},
          "output_type": "execute_result"
        }
      ],
      "source": [
        "model7.fit(X_train, y_train, epochs=15, batch_size=32)"
      ]
    },
    {
      "cell_type": "code",
      "execution_count": 58,
      "metadata": {
        "colab": {
          "base_uri": "https://localhost:8080/"
        },
        "id": "mDSm67Zkw2dC",
        "outputId": "ac457b30-191e-45f4-c82a-755490764c6a"
      },
      "outputs": [
        {
          "name": "stdout",
          "output_type": "stream",
          "text": [
            "6/6 [==============================] - 0s 48ms/step - loss: 1.6843 - accuracy: 0.5608\n"
          ]
        },
        {
          "data": {
            "text/plain": [
              "[1.6842827796936035, 0.5608465671539307]"
            ]
          },
          "execution_count": 58,
          "metadata": {},
          "output_type": "execute_result"
        }
      ],
      "source": [
        "model7.evaluate(X_test,y_test)"
      ]
    },
    {
      "cell_type": "code",
      "execution_count": null,
      "metadata": {
        "id": "BsANbcUU2d75"
      },
      "outputs": [],
      "source": [
        "# LISTO"
      ]
    },
    {
      "attachments": {},
      "cell_type": "markdown",
      "metadata": {},
      "source": [
        "# TABLA FINAL"
      ]
    },
    {
      "cell_type": "code",
      "execution_count": 10,
      "metadata": {},
      "outputs": [],
      "source": [
        "dicc_result_fin = {'Modelos':['knn + SURF', 'svm + SURF', 'lr + SURF', 'nb + SURF','knn + SURF 128', 'svm + SURF 128', 'lr + SURF 128', 'nb + SURF 128', 'knn + SIFT', 'svm + SIFT', 'lr + SIFT', 'nb + SIFT','knn + MFCC', 'svm + MFCC', 'lr + MFCC', 'nb + MFCC' , 'MLP + SURF', 'MLP + SURF 128', 'MLP + SIFT', 'MLP + MFCC', 'TL Inception' , 'TL VGG19', 'TL VGG16', 'TL ResNet50', 'TL ResNet101', 'TL ResNet152', 'CNN VP'], 'Accuracy':[0.5226, 0.5728, 0.5477, 0.4472, 0.5477, 0.6180, 0.5728, 0.4673, 0.5700, 0.6500, 0.6800, 0.4400, 0.6050, 0.6800, 0.6100, 0.4900, 0.6130, 0.5628, 0.6700, 0.5900, 0.6190, 0.7407, 0.7883, 0.8042, 0.7724, 0.7619, 0.5608]}"
      ]
    },
    {
      "cell_type": "code",
      "execution_count": 11,
      "metadata": {},
      "outputs": [],
      "source": [
        "final = pd.DataFrame(dicc_result_fin)"
      ]
    },
    {
      "cell_type": "code",
      "execution_count": 12,
      "metadata": {},
      "outputs": [
        {
          "data": {
            "text/html": [
              "<div>\n",
              "<style scoped>\n",
              "    .dataframe tbody tr th:only-of-type {\n",
              "        vertical-align: middle;\n",
              "    }\n",
              "\n",
              "    .dataframe tbody tr th {\n",
              "        vertical-align: top;\n",
              "    }\n",
              "\n",
              "    .dataframe thead th {\n",
              "        text-align: right;\n",
              "    }\n",
              "</style>\n",
              "<table border=\"1\" class=\"dataframe\">\n",
              "  <thead>\n",
              "    <tr style=\"text-align: right;\">\n",
              "      <th></th>\n",
              "      <th>Modelos</th>\n",
              "      <th>Accuracy</th>\n",
              "    </tr>\n",
              "  </thead>\n",
              "  <tbody>\n",
              "    <tr>\n",
              "      <th>0</th>\n",
              "      <td>knn + SURF</td>\n",
              "      <td>0.5226</td>\n",
              "    </tr>\n",
              "    <tr>\n",
              "      <th>1</th>\n",
              "      <td>svm + SURF</td>\n",
              "      <td>0.5728</td>\n",
              "    </tr>\n",
              "    <tr>\n",
              "      <th>2</th>\n",
              "      <td>lr + SURF</td>\n",
              "      <td>0.5477</td>\n",
              "    </tr>\n",
              "    <tr>\n",
              "      <th>3</th>\n",
              "      <td>nb + SURF</td>\n",
              "      <td>0.4472</td>\n",
              "    </tr>\n",
              "    <tr>\n",
              "      <th>4</th>\n",
              "      <td>knn + SURF 128</td>\n",
              "      <td>0.5477</td>\n",
              "    </tr>\n",
              "    <tr>\n",
              "      <th>5</th>\n",
              "      <td>svm + SURF 128</td>\n",
              "      <td>0.6180</td>\n",
              "    </tr>\n",
              "    <tr>\n",
              "      <th>6</th>\n",
              "      <td>lr + SURF 128</td>\n",
              "      <td>0.5728</td>\n",
              "    </tr>\n",
              "    <tr>\n",
              "      <th>7</th>\n",
              "      <td>nb + SURF 128</td>\n",
              "      <td>0.4673</td>\n",
              "    </tr>\n",
              "    <tr>\n",
              "      <th>8</th>\n",
              "      <td>knn + SIFT</td>\n",
              "      <td>0.5700</td>\n",
              "    </tr>\n",
              "    <tr>\n",
              "      <th>9</th>\n",
              "      <td>svm + SIFT</td>\n",
              "      <td>0.6500</td>\n",
              "    </tr>\n",
              "    <tr>\n",
              "      <th>10</th>\n",
              "      <td>lr + SIFT</td>\n",
              "      <td>0.6800</td>\n",
              "    </tr>\n",
              "    <tr>\n",
              "      <th>11</th>\n",
              "      <td>nb + SIFT</td>\n",
              "      <td>0.4400</td>\n",
              "    </tr>\n",
              "    <tr>\n",
              "      <th>12</th>\n",
              "      <td>knn + MFCC</td>\n",
              "      <td>0.6050</td>\n",
              "    </tr>\n",
              "    <tr>\n",
              "      <th>13</th>\n",
              "      <td>svm + MFCC</td>\n",
              "      <td>0.6800</td>\n",
              "    </tr>\n",
              "    <tr>\n",
              "      <th>14</th>\n",
              "      <td>lr + MFCC</td>\n",
              "      <td>0.6100</td>\n",
              "    </tr>\n",
              "    <tr>\n",
              "      <th>15</th>\n",
              "      <td>nb + MFCC</td>\n",
              "      <td>0.4900</td>\n",
              "    </tr>\n",
              "    <tr>\n",
              "      <th>16</th>\n",
              "      <td>MLP + SURF</td>\n",
              "      <td>0.6130</td>\n",
              "    </tr>\n",
              "    <tr>\n",
              "      <th>17</th>\n",
              "      <td>MLP + SURF 128</td>\n",
              "      <td>0.5628</td>\n",
              "    </tr>\n",
              "    <tr>\n",
              "      <th>18</th>\n",
              "      <td>MLP + SIFT</td>\n",
              "      <td>0.6700</td>\n",
              "    </tr>\n",
              "    <tr>\n",
              "      <th>19</th>\n",
              "      <td>MLP + MFCC</td>\n",
              "      <td>0.5900</td>\n",
              "    </tr>\n",
              "    <tr>\n",
              "      <th>20</th>\n",
              "      <td>TL Inception</td>\n",
              "      <td>0.6190</td>\n",
              "    </tr>\n",
              "    <tr>\n",
              "      <th>21</th>\n",
              "      <td>TL VGG19</td>\n",
              "      <td>0.7407</td>\n",
              "    </tr>\n",
              "    <tr>\n",
              "      <th>22</th>\n",
              "      <td>TL VGG16</td>\n",
              "      <td>0.7883</td>\n",
              "    </tr>\n",
              "    <tr>\n",
              "      <th>23</th>\n",
              "      <td>TL ResNet50</td>\n",
              "      <td>0.8042</td>\n",
              "    </tr>\n",
              "    <tr>\n",
              "      <th>24</th>\n",
              "      <td>TL ResNet101</td>\n",
              "      <td>0.7724</td>\n",
              "    </tr>\n",
              "    <tr>\n",
              "      <th>25</th>\n",
              "      <td>TL ResNet152</td>\n",
              "      <td>0.7619</td>\n",
              "    </tr>\n",
              "    <tr>\n",
              "      <th>26</th>\n",
              "      <td>CNN VP</td>\n",
              "      <td>0.5608</td>\n",
              "    </tr>\n",
              "  </tbody>\n",
              "</table>\n",
              "</div>"
            ],
            "text/plain": [
              "           Modelos  Accuracy\n",
              "0       knn + SURF    0.5226\n",
              "1       svm + SURF    0.5728\n",
              "2        lr + SURF    0.5477\n",
              "3        nb + SURF    0.4472\n",
              "4   knn + SURF 128    0.5477\n",
              "5   svm + SURF 128    0.6180\n",
              "6    lr + SURF 128    0.5728\n",
              "7    nb + SURF 128    0.4673\n",
              "8       knn + SIFT    0.5700\n",
              "9       svm + SIFT    0.6500\n",
              "10       lr + SIFT    0.6800\n",
              "11       nb + SIFT    0.4400\n",
              "12      knn + MFCC    0.6050\n",
              "13      svm + MFCC    0.6800\n",
              "14       lr + MFCC    0.6100\n",
              "15       nb + MFCC    0.4900\n",
              "16      MLP + SURF    0.6130\n",
              "17  MLP + SURF 128    0.5628\n",
              "18      MLP + SIFT    0.6700\n",
              "19      MLP + MFCC    0.5900\n",
              "20    TL Inception    0.6190\n",
              "21        TL VGG19    0.7407\n",
              "22        TL VGG16    0.7883\n",
              "23     TL ResNet50    0.8042\n",
              "24    TL ResNet101    0.7724\n",
              "25    TL ResNet152    0.7619\n",
              "26          CNN VP    0.5608"
            ]
          },
          "execution_count": 12,
          "metadata": {},
          "output_type": "execute_result"
        }
      ],
      "source": [
        "final"
      ]
    }
  ],
  "metadata": {
    "accelerator": "GPU",
    "colab": {
      "gpuType": "T4",
      "provenance": []
    },
    "kernelspec": {
      "display_name": "Python 3",
      "name": "python3"
    },
    "language_info": {
      "codemirror_mode": {
        "name": "ipython",
        "version": 3
      },
      "file_extension": ".py",
      "mimetype": "text/x-python",
      "name": "python",
      "nbconvert_exporter": "python",
      "pygments_lexer": "ipython3",
      "version": "3.7.16"
    }
  },
  "nbformat": 4,
  "nbformat_minor": 0
}
